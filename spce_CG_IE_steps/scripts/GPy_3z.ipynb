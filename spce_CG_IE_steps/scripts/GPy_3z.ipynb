{
 "cells": [
  {
   "cell_type": "code",
   "execution_count": 4,
   "metadata": {},
   "outputs": [
    {
     "name": "stdout",
     "output_type": "stream",
     "text": [
      "Running L-BFGS-B (Scipy implementation) Code:\n",
      "  runtime   i      f              |g|        \n",
      "    00s07  0009   7.738526e+01   3.376866e-01 \n",
      "    00s16  0019   7.548715e+01   6.674923e-02 \n",
      "    00s19  0022   7.548498e+01   1.765554e-03 \n",
      "    00s35  0059   7.529886e+01   3.997213e-08 \n",
      "Runtime:     00s35\n",
      "Optimization status: Converged\n",
      "\n",
      "Optimization restart 1/20, f = 75.29885724743875\n"
     ]
    },
    {
     "name": "stderr",
     "output_type": "stream",
     "text": [
      " /anaconda3/lib/python3.6/site-packages/paramz/transformations.py:111: RuntimeWarning:overflow encountered in expm1\n"
     ]
    },
    {
     "name": "stdout",
     "output_type": "stream",
     "text": [
      "Optimization restart 2/20, f = -392.54106866880375\n",
      "Optimization restart 3/20, f = -394.99845826804994\n",
      "Optimization restart 4/20, f = -358.5670999997892\n",
      "Optimization restart 5/20, f = -389.52244262174554\n",
      "Optimization restart 6/20, f = -394.9497178243755\n",
      "Optimization restart 7/20, f = -505.1833675461248\n",
      "Optimization restart 8/20, f = -396.76509556094516\n",
      "Optimization restart 9/20, f = -498.54824689939596\n",
      "Optimization restart 10/20, f = -269.77023411203436\n",
      "Optimization restart 11/20, f = -395.30314257282316\n",
      "Optimization restart 12/20, f = -507.47797364269263\n",
      "Optimization restart 13/20, f = -396.4622679319882\n",
      "Optimization restart 14/20, f = -397.03909754170036\n",
      "Optimization restart 15/20, f = -393.45285933476316\n",
      "Optimization restart 16/20, f = -499.71406578487495\n",
      "Optimization restart 17/20, f = -396.38385033203394\n",
      "Optimization restart 18/20, f = -502.5364770042261\n",
      "Optimization restart 19/20, f = -397.6091769599052\n",
      "Optimization restart 20/20, f = -505.1993692275664\n"
     ]
    },
    {
     "data": {
      "text/html": [
       "<style type=\"text/css\">\n",
       ".pd{\n",
       "    font-family: \"Courier New\", Courier, monospace !important;\n",
       "    width: 100%;\n",
       "    padding: 3px;\n",
       "}\n",
       "</style>\n",
       "\n",
       "<p class=pd>\n",
       "<b>Model</b>: sparse_gp<br>\n",
       "<b>Objective</b>: -507.47797364269263<br>\n",
       "<b>Number of Parameters</b>: 13<br>\n",
       "<b>Number of Optimization Parameters</b>: 13<br>\n",
       "<b>Updates</b>: True<br>\n",
       "</p>\n",
       "<style type=\"text/css\">\n",
       ".tg  {font-family:\"Courier New\", Courier, monospace !important;padding:2px 3px;word-break:normal;border-collapse:collapse;border-spacing:0;border-color:#DCDCDC;margin:0px auto;width:100%;}\n",
       ".tg td{font-family:\"Courier New\", Courier, monospace !important;font-weight:bold;color:#444;background-color:#F7FDFA;border-style:solid;border-width:1px;overflow:hidden;word-break:normal;border-color:#DCDCDC;}\n",
       ".tg th{font-family:\"Courier New\", Courier, monospace !important;font-weight:normal;color:#fff;background-color:#26ADE4;border-style:solid;border-width:1px;overflow:hidden;word-break:normal;border-color:#DCDCDC;}\n",
       ".tg .tg-left{font-family:\"Courier New\", Courier, monospace !important;font-weight:normal;text-align:left;}\n",
       ".tg .tg-center{font-family:\"Courier New\", Courier, monospace !important;font-weight:normal;text-align:center;}\n",
       ".tg .tg-right{font-family:\"Courier New\", Courier, monospace !important;font-weight:normal;text-align:right;}\n",
       "</style>\n",
       "<table class=\"tg\"><tr><th><b>  sparse_gp.             </b></th><th><b>               value</b></th><th><b>constraints</b></th><th><b>priors</b></th></tr>\n",
       "<tr><td class=tg-left>  inducing inputs        </td><td class=tg-right>             (10, 1)</td><td class=tg-center>           </td><td class=tg-center>      </td></tr>\n",
       "<tr><td class=tg-left>  rbf.variance           </td><td class=tg-right>   100749.0505676984</td><td class=tg-center>    +ve    </td><td class=tg-center>      </td></tr>\n",
       "<tr><td class=tg-left>  rbf.lengthscale        </td><td class=tg-right>  0.4265828967974072</td><td class=tg-center>    +ve    </td><td class=tg-center>      </td></tr>\n",
       "<tr><td class=tg-left>  Gaussian_noise.variance</td><td class=tg-right>0.003522496430086393</td><td class=tg-center>    +ve    </td><td class=tg-center>      </td></tr>\n",
       "</table>"
      ],
      "text/plain": [
       "<GPy.models.sparse_gp_regression.SparseGPRegression at 0x1138fb7b8>"
      ]
     },
     "metadata": {},
     "output_type": "display_data"
    },
    {
     "data": {
      "image/png": "[encoded data removed]",
      "text/plain": [
       "<Figure size 432x288 with 1 Axes>"
      ]
     },
     "metadata": {},
     "output_type": "display_data"
    }
   ],
   "source": [
    "#\n",
    "# Gaussian Process - for Coarse-Grain Potential Development\n",
    "# Berkeley National Lab, Summer 2018\n",
    "# University of Saint Mary\n",
    "#\n",
    "\n",
    "import numpy as np\n",
    "from matplotlib import pyplot as plt\n",
    "import GPy\n",
    "from IPython.display import display\n",
    "\n",
    "d = 1 # input dimension\n",
    "var = 1 # variance\n",
    "theta = 5 # lengthscale\n",
    "\n",
    "InFileName = 'BiomolecularData.dat'\n",
    "f = open(InFileName, 'r')\n",
    "N = len(f.readlines())  # number of observed points.\n",
    "f.close()\n",
    "\n",
    "X = np.zeros(shape=(N,1))\n",
    "Yo = np.zeros(shape=(N,1))\n",
    "\n",
    "#------------------------------------\n",
    "# Open the file and read data points from the file\n",
    "\n",
    "InFile = open(InFileName, 'r')\n",
    "LineNumber = 0\n",
    "for Line in InFile:\n",
    "    #Remove the lin-ending characters\n",
    "    Line = Line.strip('\\n')\n",
    "    row = Line.split()\n",
    "    #Index the counter used to keep track of line number\n",
    "    X[LineNumber] = float(row[0])\n",
    "    Yo[LineNumber] = float(row[1])\n",
    "    LineNumber += 1\n",
    "#After the loop is completed., close the file\n",
    "InFile.close()\n",
    "# -----------------------------------\n",
    "\n",
    "X_min = np.ndarray.min(X)\n",
    "Yo_min = np.ndarray.min(Yo) * 1.2  # Make 20% larger on the min value\n",
    "Y = np.log(Yo - Yo_min)\n",
    "\n",
    "# plt.scatter(X, Y)\n",
    "# plt.axis([0, 1.5, -2, 15])\n",
    "\n",
    "kernel = GPy.kern.RBF(d, var, theta)\n",
    "\n",
    "# Original\n",
    "#m = GPy.models.GPRegression(X,Y,kernel)\n",
    "#\n",
    "# Zach modefication:\n",
    "m = GPy.models.SparseGPRegression(X,Y,kernel)\n",
    "\n",
    "\n",
    "#fig = m.plot()\n",
    "#GPy.plotting.show(fig, filename='basic_gp_regression_notebook')\n",
    "#display(m)\n",
    "\n",
    "m.optimize(messages=True)\n",
    "m.optimize_restarts(num_restarts = 20)\n",
    "\n",
    "#fig = m.plot()\n",
    "#GPy.plotting.show(fig, filename='basic_gp_regression_notebook_optimized')\n",
    "#display(m)\n",
    "\n",
    "#fig = m.plot(plot_density=True)\n",
    "#GPy.plotting.show(fig, filename='basic_gp_regression_density_notebook_optimized')\n",
    "display(m)\n",
    "\n",
    "m.predict(m.X)\n",
    "\n",
    "#Xp = np.arange(X_min,2.5,0.002).reshape(-1,1)\n",
    "Xp = np.arange(0,2.5,0.002).reshape(-1,1)\n",
    "Yt = m.predict(Xp)\n",
    "Yp = np.exp(Yt) + (Yo_min)\n",
    "\n",
    "plt.axis([0, 1.5, -3, 15])\n",
    "plt.scatter(X,Yo)\n",
    "plt.plot(Xp,Yp[0])\n",
    "plt.show()\n",
    "\n",
    "Dataout = np.column_stack((Xp,Yp[0]))\n",
    "np.savetxt('CGPotential.dat',(Dataout),fmt=('%10.5f', '%12.6f'))"
   ]
  },
  {
   "cell_type": "code",
   "execution_count": null,
   "metadata": {},
   "outputs": [],
   "source": []
  }
 ],
 "metadata": {
  "kernelspec": {
   "display_name": "Python 3",
   "language": "python",
   "name": "python3"
  },
  "language_info": {
   "codemirror_mode": {
    "name": "ipython",
    "version": 3
   },
   "file_extension": ".py",
   "mimetype": "text/x-python",
   "name": "python",
   "nbconvert_exporter": "python",
   "pygments_lexer": "ipython3",
   "version": "3.6.5"
  }
 },
 "nbformat": 4,
 "nbformat_minor": 2
}
